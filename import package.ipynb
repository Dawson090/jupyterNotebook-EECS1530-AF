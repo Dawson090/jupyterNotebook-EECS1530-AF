{
 "cells": [
  {
   "cell_type": "markdown",
   "metadata": {},
   "source": [
    "# Install/Import Python packages in Jupyter Notebook\n",
    "\n",
    "from https://jakevdp.github.io/blog/2017/12/05/installing-python-packages-from-jupyter/"
   ]
  },
  {
   "cell_type": "code",
   "execution_count": 2,
   "metadata": {
    "collapsed": false
   },
   "outputs": [
    {
     "name": "stdout",
     "output_type": "stream",
     "text": [
      "Collecting numpy\n",
      "  Using cached https://files.pythonhosted.org/packages/33/04/b7d3f32f6be7b5d3a9b884f4b281b10b77f8d77c11006cf7e3887077579d/numpy-1.16.0-cp36-cp36m-manylinux1_i686.whl\n",
      "Installing collected packages: numpy\n",
      "Successfully installed numpy-1.16.0\n"
     ]
    }
   ],
   "source": [
    "# numpy installs successfully:\n",
    "import sys\n",
    "!{sys.executable} -m pip install numpy"
   ]
  },
  {
   "cell_type": "code",
   "execution_count": 7,
   "metadata": {
    "collapsed": false
   },
   "outputs": [
    {
     "data": {
      "text/plain": [
       "array([[0.43176434, 0.96147346],\n",
       "       [0.98512677, 0.14854463],\n",
       "       [0.43098979, 0.5221651 ]])"
      ]
     },
     "execution_count": 7,
     "metadata": {},
     "output_type": "execute_result"
    }
   ],
   "source": [
    "# proof Numpy imported successfully:\n",
    "import numpy as np\n",
    "np.random.rand(3, 2)\n",
    "    \n",
    "    "
   ]
  },
  {
   "cell_type": "code",
   "execution_count": 8,
   "metadata": {
    "collapsed": false
   },
   "outputs": [
    {
     "data": {
      "text/plain": [
       "array([[0.91838939, 0.0172181 , 0.46904326],\n",
       "       [0.05251583, 0.57687338, 0.1231911 ],\n",
       "       [0.89942322, 0.62400253, 0.83256265],\n",
       "       [0.17390717, 0.8355968 , 0.25770169]])"
      ]
     },
     "execution_count": 8,
     "metadata": {},
     "output_type": "execute_result"
    }
   ],
   "source": [
    "np.random.rand(4, 3)"
   ]
  },
  {
   "cell_type": "code",
   "execution_count": 4,
   "metadata": {
    "collapsed": false
   },
   "outputs": [
    {
     "name": "stdout",
     "output_type": "stream",
     "text": [
      "Collecting gdal\n",
      "  Using cached https://files.pythonhosted.org/packages/7c/b0/a2ecb10a68a319910c4681f452c83843b99c4ef6231d33a8e55b0104a50c/GDAL-2.4.0.tar.gz\n",
      "    Complete output from command python setup.py egg_info:\n",
      "    running egg_info\n",
      "    creating pip-egg-info/GDAL.egg-info\n",
      "    writing pip-egg-info/GDAL.egg-info/PKG-INFO\n",
      "    writing dependency_links to pip-egg-info/GDAL.egg-info/dependency_links.txt\n",
      "    writing top-level names to pip-egg-info/GDAL.egg-info/top_level.txt\n",
      "    writing manifest file 'pip-egg-info/GDAL.egg-info/SOURCES.txt'\n",
      "    Traceback (most recent call last):\n",
      "      File \"/tmp/pip-build-hgypl7h_/gdal/setup.py\", line 151, in fetch_config\n",
      "        p = subprocess.Popen([command, args], stdout=subprocess.PIPE)\n",
      "      File \"/usr/lib/python3.6/subprocess.py\", line 709, in __init__\n",
      "        restore_signals, start_new_session)\n",
      "      File \"/usr/lib/python3.6/subprocess.py\", line 1344, in _execute_child\n",
      "        raise child_exception_type(errno_num, err_msg, err_filename)\n",
      "    FileNotFoundError: [Errno 2] No such file or directory: '../../apps/gdal-config': '../../apps/gdal-config'\n",
      "    \n",
      "    During handling of the above exception, another exception occurred:\n",
      "    \n",
      "    Traceback (most recent call last):\n",
      "      File \"/tmp/pip-build-hgypl7h_/gdal/setup.py\", line 237, in get_gdal_config\n",
      "        return fetch_config(option, gdal_config=self.gdal_config)\n",
      "      File \"/tmp/pip-build-hgypl7h_/gdal/setup.py\", line 154, in fetch_config\n",
      "        raise gdal_config_error(e)\n",
      "    __main__.gdal_config_error: [Errno 2] No such file or directory: '../../apps/gdal-config': '../../apps/gdal-config'\n",
      "    \n",
      "    During handling of the above exception, another exception occurred:\n",
      "    \n",
      "    Traceback (most recent call last):\n",
      "      File \"/tmp/pip-build-hgypl7h_/gdal/setup.py\", line 151, in fetch_config\n",
      "        p = subprocess.Popen([command, args], stdout=subprocess.PIPE)\n",
      "      File \"/usr/lib/python3.6/subprocess.py\", line 709, in __init__\n",
      "        restore_signals, start_new_session)\n",
      "      File \"/usr/lib/python3.6/subprocess.py\", line 1344, in _execute_child\n",
      "        raise child_exception_type(errno_num, err_msg, err_filename)\n",
      "    FileNotFoundError: [Errno 2] No such file or directory: 'gdal-config': 'gdal-config'\n",
      "    \n",
      "    During handling of the above exception, another exception occurred:\n",
      "    \n",
      "    Traceback (most recent call last):\n",
      "      File \"<string>\", line 1, in <module>\n",
      "      File \"/tmp/pip-build-hgypl7h_/gdal/setup.py\", line 430, in <module>\n",
      "        setup(**setup_kwargs)\n",
      "      File \"/usr/lib/python3.6/distutils/core.py\", line 148, in setup\n",
      "        dist.run_commands()\n",
      "      File \"/usr/lib/python3.6/distutils/dist.py\", line 955, in run_commands\n",
      "        self.run_command(cmd)\n",
      "      File \"/usr/lib/python3.6/distutils/dist.py\", line 974, in run_command\n",
      "        cmd_obj.run()\n",
      "      File \"/usr/lib/python3/dist-packages/setuptools/command/egg_info.py\", line 280, in run\n",
      "        self.find_sources()\n",
      "      File \"/usr/lib/python3/dist-packages/setuptools/command/egg_info.py\", line 295, in find_sources\n",
      "        mm.run()\n",
      "      File \"/usr/lib/python3/dist-packages/setuptools/command/egg_info.py\", line 526, in run\n",
      "        self.add_defaults()\n",
      "      File \"/usr/lib/python3/dist-packages/setuptools/command/egg_info.py\", line 562, in add_defaults\n",
      "        sdist.add_defaults(self)\n",
      "      File \"/usr/lib/python3/dist-packages/setuptools/command/py36compat.py\", line 36, in add_defaults\n",
      "        self._add_defaults_ext()\n",
      "      File \"/usr/lib/python3/dist-packages/setuptools/command/py36compat.py\", line 119, in _add_defaults_ext\n",
      "        build_ext = self.get_finalized_command('build_ext')\n",
      "      File \"/usr/lib/python3.6/distutils/cmd.py\", line 299, in get_finalized_command\n",
      "        cmd_obj.ensure_finalized()\n",
      "      File \"/usr/lib/python3.6/distutils/cmd.py\", line 107, in ensure_finalized\n",
      "        self.finalize_options()\n",
      "      File \"/tmp/pip-build-hgypl7h_/gdal/setup.py\", line 287, in finalize_options\n",
      "        self.gdaldir = self.get_gdal_config('prefix')\n",
      "      File \"/tmp/pip-build-hgypl7h_/gdal/setup.py\", line 243, in get_gdal_config\n",
      "        return fetch_config(option)\n",
      "      File \"/tmp/pip-build-hgypl7h_/gdal/setup.py\", line 154, in fetch_config\n",
      "        raise gdal_config_error(e)\n",
      "    __main__.gdal_config_error: [Errno 2] No such file or directory: 'gdal-config': 'gdal-config'\n",
      "    \n",
      "    ----------------------------------------\n",
      "\u001b[31mCommand \"python setup.py egg_info\" failed with error code 1 in /tmp/pip-build-hgypl7h_/gdal/\u001b[0m\n"
     ]
    }
   ],
   "source": [
    "# GDAL does not install\n",
    "import sys\n",
    "!{sys.executable} -m pip install gdal"
   ]
  },
  {
   "cell_type": "code",
   "execution_count": 9,
   "metadata": {
    "collapsed": false,
    "scrolled": true
   },
   "outputs": [
    {
     "name": "stdout",
     "output_type": "stream",
     "text": [
      "Collecting clairvoyant\n",
      "\u001b[31mException:\n",
      "Traceback (most recent call last):\n",
      "  File \"/usr/share/python-wheels/urllib3-1.19.1-py2.py3-none-any.whl/urllib3/connection.py\", line 138, in _new_conn\n",
      "    (self.host, self.port), self.timeout, **extra_kw)\n",
      "  File \"/usr/share/python-wheels/urllib3-1.19.1-py2.py3-none-any.whl/urllib3/util/connection.py\", line 75, in create_connection\n",
      "    for res in socket.getaddrinfo(host, port, family, socket.SOCK_STREAM):\n",
      "  File \"/usr/lib/python3.6/socket.py\", line 745, in getaddrinfo\n",
      "    for res in _socket.getaddrinfo(host, port, family, type, proto, flags):\n",
      "socket.gaierror: [Errno -2] Name or service not known\n",
      "\n",
      "During handling of the above exception, another exception occurred:\n",
      "\n",
      "Traceback (most recent call last):\n",
      "  File \"/usr/share/python-wheels/urllib3-1.19.1-py2.py3-none-any.whl/urllib3/connectionpool.py\", line 594, in urlopen\n",
      "    chunked=chunked)\n",
      "  File \"/usr/share/python-wheels/urllib3-1.19.1-py2.py3-none-any.whl/urllib3/connectionpool.py\", line 350, in _make_request\n",
      "    self._validate_conn(conn)\n",
      "  File \"/usr/share/python-wheels/urllib3-1.19.1-py2.py3-none-any.whl/urllib3/connectionpool.py\", line 837, in _validate_conn\n",
      "    conn.connect()\n",
      "  File \"/usr/share/python-wheels/urllib3-1.19.1-py2.py3-none-any.whl/urllib3/connection.py\", line 281, in connect\n",
      "    conn = self._new_conn()\n",
      "  File \"/usr/share/python-wheels/urllib3-1.19.1-py2.py3-none-any.whl/urllib3/connection.py\", line 147, in _new_conn\n",
      "    self, \"Failed to establish a new connection: %s\" % e)\n",
      "requests.packages.urllib3.exceptions.NewConnectionError: <requests.packages.urllib3.connection.VerifiedHTTPSConnection object at 0xb6888bcc>: Failed to establish a new connection: [Errno -2] Name or service not known\n",
      "\n",
      "During handling of the above exception, another exception occurred:\n",
      "\n",
      "Traceback (most recent call last):\n",
      "  File \"/usr/lib/python3/dist-packages/pip/basecommand.py\", line 215, in main\n",
      "    status = self.run(options, args)\n",
      "  File \"/usr/lib/python3/dist-packages/pip/commands/install.py\", line 353, in run\n",
      "    wb.build(autobuilding=True)\n",
      "  File \"/usr/lib/python3/dist-packages/pip/wheel.py\", line 749, in build\n",
      "    self.requirement_set.prepare_files(self.finder)\n",
      "  File \"/usr/lib/python3/dist-packages/pip/req/req_set.py\", line 380, in prepare_files\n",
      "    ignore_dependencies=self.ignore_dependencies))\n",
      "  File \"/usr/lib/python3/dist-packages/pip/req/req_set.py\", line 554, in _prepare_file\n",
      "    require_hashes\n",
      "  File \"/usr/lib/python3/dist-packages/pip/req/req_install.py\", line 278, in populate_link\n",
      "    self.link = finder.find_requirement(self, upgrade)\n",
      "  File \"/usr/lib/python3/dist-packages/pip/index.py\", line 465, in find_requirement\n",
      "    all_candidates = self.find_all_candidates(req.name)\n",
      "  File \"/usr/lib/python3/dist-packages/pip/index.py\", line 423, in find_all_candidates\n",
      "    for page in self._get_pages(url_locations, project_name):\n",
      "  File \"/usr/lib/python3/dist-packages/pip/index.py\", line 568, in _get_pages\n",
      "    page = self._get_page(location)\n",
      "  File \"/usr/lib/python3/dist-packages/pip/index.py\", line 683, in _get_page\n",
      "    return HTMLPage.get_page(link, session=self.session)\n",
      "  File \"/usr/lib/python3/dist-packages/pip/index.py\", line 792, in get_page\n",
      "    \"Cache-Control\": \"max-age=600\",\n",
      "  File \"/usr/share/python-wheels/requests-2.12.4-py2.py3-none-any.whl/requests/sessions.py\", line 501, in get\n",
      "    return self.request('GET', url, **kwargs)\n",
      "  File \"/usr/lib/python3/dist-packages/pip/download.py\", line 386, in request\n",
      "    return super(PipSession, self).request(method, url, *args, **kwargs)\n",
      "  File \"/usr/share/python-wheels/requests-2.12.4-py2.py3-none-any.whl/requests/sessions.py\", line 488, in request\n",
      "    resp = self.send(prep, **send_kwargs)\n",
      "  File \"/usr/share/python-wheels/requests-2.12.4-py2.py3-none-any.whl/requests/sessions.py\", line 609, in send\n",
      "    r = adapter.send(request, **kwargs)\n",
      "  File \"/usr/share/python-wheels/CacheControl-0.11.7-py2.py3-none-any.whl/cachecontrol/adapter.py\", line 47, in send\n",
      "    resp = super(CacheControlAdapter, self).send(request, **kw)\n",
      "  File \"/usr/share/python-wheels/requests-2.12.4-py2.py3-none-any.whl/requests/adapters.py\", line 423, in send\n",
      "    timeout=timeout\n",
      "  File \"/usr/share/python-wheels/urllib3-1.19.1-py2.py3-none-any.whl/urllib3/connectionpool.py\", line 643, in urlopen\n",
      "    _stacktrace=sys.exc_info()[2])\n",
      "  File \"/usr/share/python-wheels/urllib3-1.19.1-py2.py3-none-any.whl/urllib3/util/retry.py\", line 315, in increment\n",
      "    total -= 1\n",
      "TypeError: unsupported operand type(s) for -=: 'Retry' and 'int'\u001b[0m\n"
     ]
    }
   ],
   "source": [
    "import sys\n",
    "!{sys.executable} -m pip install clairvoyant"
   ]
  },
  {
   "cell_type": "code",
   "execution_count": 6,
   "metadata": {
    "collapsed": true
   },
   "outputs": [
    {
     "name": "stdout",
     "output_type": "stream",
     "text": [
      "Collecting time\n",
      "\u001b[31m  Could not find a version that satisfies the requirement time (from versions: )\u001b[0m\n",
      "\u001b[31mNo matching distribution found for time\u001b[0m\n"
     ]
    }
   ],
   "source": []
  }
 ],
 "metadata": {
  "kernelspec": {
   "display_name": "Python 3",
   "language": "python",
   "name": "python3"
  },
  "language_info": {
   "codemirror_mode": {
    "name": "ipython",
    "version": 3
   },
   "file_extension": ".py",
   "mimetype": "text/x-python",
   "name": "python",
   "nbconvert_exporter": "python",
   "pygments_lexer": "ipython3",
   "version": "3.6.3"
  }
 },
 "nbformat": 4,
 "nbformat_minor": 2
}
