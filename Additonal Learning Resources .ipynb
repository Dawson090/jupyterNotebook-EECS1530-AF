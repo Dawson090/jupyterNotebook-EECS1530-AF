{
 "cells": [
  {
   "cell_type": "markdown",
   "metadata": {},
   "source": [
    "# Introduction:\n",
    "\n",
    "I'm Amanda Filipowich from EECS1530 Section M. I am not an expert with Python, Jupyter Notebook, Github, and am pretty much new to computer science. Keep that in mind! This notebook is my way of contributing the solutions I find to my own problems and sharing them with anyone else who might have the same problems. \n",
    "\n",
    "I use Ubuntu v18.04, and anyone who uses MacOS or Windows can add additional resources you've found for the course.\n",
    "\n",
    "This course moves quickly, and if you're not setup properly or miss anything, it's easy to get lost if you're new to programming. So I decided to set up a few of the resources I've found to keep up.\n",
    "\n",
    "## Tips:\n",
    "\n",
    "If you're struggling in lectures you can follow up by reading the slides and the books recommended by Rabia in the course syllabus:\n",
    "\n",
    "https://www.automatetheboringstuff.com\n",
    "https://www.openbookproject.net/thinkcs/python/english3e\n",
    "\n",
    "Most of the lectures and slides follow along with the first book very closely, and the second book will help reinforce that information.\n",
    "\n",
    "- Rabia has recently posted the TA's office hours on Moodle. If you're new to university, I'll give you some advice: take advantage!! It's intimidating at first but feel free to knock on his door and introduce yourself, what class you're in, and let him know you're having trouble. If you're nervous, message me and we can go together or I can ask for you as I'm free during those hours.\n",
    "\n",
    "## Additional online tutorials\n",
    "\n",
    "Personally, I find there's a point where tutorials and lessons begin incredibly basic (ex. `print('Hello world!')`) and then the learning curve suddenly increases exponentially, or if I get stuck in one small section and spend too much time trying to figure it out, I fall behind. That's where some self-learning comes in. The following is a list of some resources I've found to help. \n",
    "\n",
    "1. https://www.digitalocean.com - I found the Python tutorials on this site simplified everything. They have entire pages dedicated to small intermediary steps or alternative codes, which the course doesn't have time to go over. As an example, I had trouble creating virtual environments to import libraries, and therefore I have trouble importing modules. Digital Ocean has tutorials explaining how to create virtual environments on different operating systems, which wasn't covered within the scope of our class. \n",
    "\n",
    "2. https://www.digitalocean.com/community/tutorials/how-to-write-modules-in-python-3 - this is the page with links to other tutorials that go over creating virtual environments and defining functions. If you're struggling with any of these areas, I found this helpful to go over things in more detail \n",
    "\n",
    "3. https://www.learnpython.org/en/Modules_and_Packages - this is another page that may help anyone truggling with Modules, PYTHONPATH, and virtual environments.\n",
    "\n",
    "I'll admit I'm focusing on these areas because, while I get them in theory, in practice I've been struggling to apply them. If anyone else in class is as lost as I am and determined to get a decent grade, I hope you take advantage and can apply them to the lectures. I'll add others as I come across them.\n",
    "\n",
    "## Final Notes: \n",
    "\n",
    "If anyone has any other resources or tips for other OS users (Mac, Windows, <i>Raspian!!</i>) please share. \n",
    "\n",
    "I'm still figuring out how Jupyter-Notebook works, so if it's read-only we can probably just use my Github (https://github.com/Filipowich/jupyterNotebook-EECS1530-AF) to add files.\n",
    "\n",
    "After you skim through some of these resources and find some that work for you, go through Rabia's lecture slides again and see if things seem clearer. \n",
    "\n",
    "It seems tedious but there will always be self-learning involved in any university course, especially when there is a course with a lot of information packed into a short period of time, coupled with a steep learning curve. Any area you feel confused, don't give up and use any and all resources, starting with optional materials provided by the professor, using the TA's office hours, getting together in study groups, or even researching additional material.\n",
    "\n",
    "#### I'll be adding experimental sample scripts below as I figure out the solutions to my own problems! \n",
    "\n"
   ]
  },
  {
   "cell_type": "markdown",
   "metadata": {},
   "source": [
    "# Creating a Module\n",
    "\n",
    "<b>(work in progress)</b>\n",
    "\n",
    "<i>source: https://www.digitalocean.com/community/tutorials/how-to-write-modules-in-python-3 </i>\n",
    "\n",
    "##### hello.py:\n",
    "\n",
    "create a file in a local programming environment (virtual environment)\n",
    "name it `hello.py`"
   ]
  },
  {
   "cell_type": "code",
   "execution_count": null,
   "metadata": {
    "collapsed": true
   },
   "outputs": [],
   "source": [
    "#define a function\n",
    "def world():\n",
    "    print(\"Hello world!\")"
   ]
  },
  {
   "cell_type": "markdown",
   "metadata": {},
   "source": [
    "##### main_program.py\n",
    "Create a second file in the same directory called `main_program.py` in order to import the module `hello.py`\n",
    "\n",
    "Alternative method on calling functions: \n",
    "<i>https://www.digitalocean.com/community/tutorials/how-to-import-modules-in-python-3#using-from--import</i>"
   ]
  },
  {
   "cell_type": "code",
   "execution_count": null,
   "metadata": {
    "collapsed": true
   },
   "outputs": [],
   "source": [
    "# Import hello module\n",
    "import hello\n",
    "\n",
    "# Call function\n",
    "hello.world()\n",
    "\n",
    "# Alternative method:\n",
    "from hello import world"
   ]
  }
 ],
 "metadata": {
  "kernelspec": {
   "display_name": "Python 3",
   "language": "python",
   "name": "python3"
  },
  "language_info": {
   "codemirror_mode": {
    "name": "ipython",
    "version": 3
   },
   "file_extension": ".py",
   "mimetype": "text/x-python",
   "name": "python",
   "nbconvert_exporter": "python",
   "pygments_lexer": "ipython3",
   "version": "3.6.3"
  }
 },
 "nbformat": 4,
 "nbformat_minor": 2
}
