{
 "cells": [
  {
   "cell_type": "markdown",
   "metadata": {},
   "source": [
    "# Introduction:\n",
    "\n",
    "I'm not an expert with Python, Jupyter Notebook, Github, and am pretty much new to computer science. Keep that in mind!\n",
    "\n",
    "I use Ubuntu v18.04, and anyone who uses MacOS or Windows can add additional resources you've found for the course.\n",
    "\n",
    "This course moves quickly, and if you're not setup properly or miss anything, it's easy to get lost if you're new to programming. So I decided to set up a few of the resources I've found to keep up.\n",
    "\n",
    "## Tips:\n",
    "\n",
    "The biggest resource is the book \"Automate the Boring Stuff\" - use this! The book is completely free online if you don't mind reading off a webpage (https://www.automatetheboringstuff.com). Rabia mentioned another free online book, \"How to Think Like a Computer Scientist\" by Peter Wentworth et al (https://www.openbookproject.net/thinkcs/python/english3e) which can help reinforce some of the content in the first book.\n",
    "\n",
    "These books are the source material for her lectures and if you're struggling like me in-class (slow reader, poor listener, missed class, whatever reason) you can follow along with the book as well as her slides outside of class. Use this!!\n",
    "\n",
    "- Rabia has recently posted the TA's office hours on Moodle. If you're new to university, I'll give you some advice: take advantage!! It's intimidating at first but feel free to knock on his door and introduce yourself, what class you're in, and let him know you're having trouble. If you're nervous, <u>message me and we can go together or I can ask for you as I'm free during those hours.</u>\n",
    "\n",
    "## Additional tutorials\n",
    "\n",
    "I get distracted by new ideas easily, and I also need to reference things as I read, so areas that confuse me or introduce a new idea lead me to new resources. The following are additional sites that might work for you if the above still lead to confusion: \n",
    "\n",
    "1. https://www.digitalocean.com - I have found tutorials that dumb things down a lot for me. As an example, I had trouble creating virtual environments to import libraries. \n",
    "\n",
    "- This site made things a lot easier for me to pick apart the concept of venv (virtual environment). These tutorials assume Linux is being used, so I don't know if a Windows user will be able to translate easily. If you were able to install Python3, pip, and other libraries through your cmd terminal, the tutorials that use the Linux Ubuntu LXTerminal commands will probably translate into Windows cmd terminal commands. I haven't used Windows in over a year so this help will have to come from someone else. \n",
    "- https://www.digitalocean.com/community/tutorials/how-to-write-modules-in-python-3 - this page contains links to other tutorials that go over creating virtual environments and defining functions. If you're struggling with any of these areas, I found this helpful to go over things in more detail \n",
    "\n",
    "2. https://www.learnpython.org/en/Modules_and_Packages - this is another page that may help anyone else struggling with Modules, PYTHONPATH, and virtual environments.\n",
    "\n",
    "I'll admit I'm focusing on these areas because, while I get them in theory, in practice I've been struggling to apply them. If anyone else in class is as lost as I am and determined to get a decent grade, I hope these pages help.\n",
    "\n",
    "## Final Notes: \n",
    "\n",
    "If anyone has any other resources, tips for other OS users (Mac, Windows, <i>Raspian!!</i>) please share. \n",
    "\n",
    "I'm still figuring out how Jupyter-Notebook works, so if it's read-only we can probably just use Github to add files.\n",
    "\n",
    "After you skim through some of these resources and find some that work for you, go through Rabia's lecture slides again and see if things seem clearer. \n",
    "\n",
    "It seems tedious but there will always be self-learning involved in any university course, especially when there is a course with a lot of information packed into a short period of time, coupled with a steep learning curve. Any area you feel confused, don't give up and use any and all resources, starting with optional materials provided by the professor, using the TA's office hours, getting together in study groups, or even researching more material. \n",
    "\n",
    "#### I'll be adding experimental sample scripts below as I figure out the solutions to my own problems! \n",
    "\n"
   ]
  },
  {
   "cell_type": "markdown",
   "metadata": {},
   "source": [
    "# Creating a Module\n",
    "\n",
    "<b>(work in progress)</b>\n",
    "\n",
    "<i>source: https://www.digitalocean.com/community/tutorials/how-to-write-modules-in-python-3 </i>\n",
    "\n",
    "##### hello.py:\n",
    "\n",
    "create a file in a local programming environment (virtual environment)\n",
    "name it `hello.py`"
   ]
  },
  {
   "cell_type": "code",
   "execution_count": null,
   "metadata": {
    "collapsed": true
   },
   "outputs": [],
   "source": [
    "#define a function\n",
    "def world():\n",
    "    print(\"Hello world!\")"
   ]
  },
  {
   "cell_type": "markdown",
   "metadata": {},
   "source": [
    "##### main_program.py\n",
    "Create a second file in the same directory called `main_program.py` in order to import the module `hello.py`\n",
    "\n",
    "Alternative method on calling functions: \n",
    "<i>https://www.digitalocean.com/community/tutorials/how-to-import-modules-in-python-3#using-from--import</i>"
   ]
  },
  {
   "cell_type": "code",
   "execution_count": null,
   "metadata": {
    "collapsed": true
   },
   "outputs": [],
   "source": [
    "# Import hello module\n",
    "import hello\n",
    "\n",
    "# Call function\n",
    "hello.world()\n",
    "\n",
    "# Alternative method:\n",
    "from hello import world"
   ]
  }
 ],
 "metadata": {
  "kernelspec": {
   "display_name": "Python 3",
   "language": "python",
   "name": "python3"
  },
  "language_info": {
   "codemirror_mode": {
    "name": "ipython",
    "version": 3
   },
   "file_extension": ".py",
   "mimetype": "text/x-python",
   "name": "python",
   "nbconvert_exporter": "python",
   "pygments_lexer": "ipython3",
   "version": "3.6.3"
  }
 },
 "nbformat": 4,
 "nbformat_minor": 2
}
