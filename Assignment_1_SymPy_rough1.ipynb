{
 "cells": [
  {
   "cell_type": "markdown",
   "metadata": {},
   "source": [
    "# SymPy: A Python Solution for Symbolic Computation\n",
    "\n",
    "### SymPy is an open source Computer Algebra System (CAS) that allows the use of symbolic computation. [https://docs.sympy.org/latest/tutorial/intro.html].\n",
    "\n",
    "To explain what SymPy does, when it becomes useful and why it was developed, take the following example comparing SymPy and Python's math.py library.\n",
    "\n",
    "Python comes with the builtin math.py library, which can be imported into any shell to perform mathematical calculations beyond simple arithmetic (https://docs.python.org/3/library/math.html). A common example is the square root function, or sqrt():"
   ]
  },
  {
   "cell_type": "code",
   "execution_count": 15,
   "metadata": {
    "collapsed": false
   },
   "outputs": [
    {
     "data": {
      "text/plain": [
       "5.0"
      ]
     },
     "execution_count": 15,
     "metadata": {},
     "output_type": "execute_result"
    }
   ],
   "source": [
    "import math\n",
    "math.sqrt(25)\n",
    "# this results in a perfect square"
   ]
  },
  {
   "cell_type": "markdown",
   "metadata": {},
   "source": [
    "The square root of 25 is a rational number, 5.0. However, in the case of irrational numbers such as `pi`, `e`, and the square root of 8, `math.sqrt()` returns an irrational number which can only be displayed as an approximation:"
   ]
  },
  {
   "cell_type": "code",
   "execution_count": 13,
   "metadata": {
    "collapsed": false,
    "scrolled": true
   },
   "outputs": [
    {
     "data": {
      "text/plain": [
       "2.8284271247461903"
      ]
     },
     "execution_count": 13,
     "metadata": {},
     "output_type": "execute_result"
    }
   ],
   "source": [
    "math.sqrt(8)\n",
    "# this results in an approximation of an irrational number"
   ]
  },
  {
   "cell_type": "markdown",
   "metadata": {},
   "source": [
    "If we are doing math that only requires an approximate decimal of the square root of 8, we can leave this equation only approximately evaluated. However, for instances which require an exact value, SymPy leaves imperfect square roots unevaluated and simplified:"
   ]
  },
  {
   "cell_type": "code",
   "execution_count": 14,
   "metadata": {
    "collapsed": false
   },
   "outputs": [
    {
     "data": {
      "text/plain": [
       "2*sqrt(2)"
      ]
     },
     "execution_count": 14,
     "metadata": {},
     "output_type": "execute_result"
    }
   ],
   "source": [
    "import sympy\n",
    "sympy.sqrt(8)\n",
    "# this results in an algebraic, or symbolic computation"
   ]
  },
  {
   "cell_type": "markdown",
   "metadata": {},
   "source": [
    "which translates into `√8 = √4⋅2 = 2√2`\n",
    "\n",
    "This final value, `2√2`, is an exact equivalent of the approximate value `2.8284271247461903`, but is left unevaluated, thereby increasing the speed of the program and reducing the chance of errors in a code [https://docs.sympy.org/latest/tutorial/intro.html].\n",
    "\n",
    "Python's builtin math.py library is not equipped to handle the advanced calculations and printing needs required in many science, engineering, and mathematics professions. That's where SymPy comes in."
   ]
  },
  {
   "cell_type": "markdown",
   "metadata": {},
   "source": [
    "### Makes sense, so where did SymPy come from?\n",
    "\n",
    "SymPy is an open source library released under the BSD Licence (https://opensource.org/licenses/BSD-2-Clause), and is developed and maintained by Aaron Meurer. Its first version, v0.5.13-hg, was released on April 1, 2008, with its latest release of v1.13 on September 14, 2018. The library is programmed purely with Python, and can be used by all Python versions 2.7 and above. It can also be used across all operating systems (https://pypi.org/project/sympy/#history), which distinguishes it from other CAS libraries such as Axiom (https://github.com/sympy/sympy/wiki/SymPy-vs.-Axiom). \n",
    "\n",
    "Since its first release, SymPy has become highly reknowned and popular in scientific and mathematics computing communities. A Github file called \"SymPy Papers\", located at https://github.com/sympy/sympy/wiki/SymPy-Papers, tracks Zotero publications which cite the library. Another Github file in the SymPy repository, https://github.com/sympy/sympy/wiki/Presentations, lists SymPy presentations from conferences across the globe. The repository also provides a list of cookbooks for SymPy: https://github.com/sympy/sympy/wiki/Cookbook, and countless tutorials have been written both by the maintenance team and by external developers and users: https://github.com/sympy/sympy/wiki/External-SymPy-Media%2C-Tutorials%2C-and-Presentations. "
   ]
  },
  {
   "cell_type": "markdown",
   "metadata": {},
   "source": [
    "### Who uses SymPy and What can you do with it?\n",
    "\n",
    "SymPy is designed for use in mathematics, engineering, and physics (https://pypi.org/project/sympy/). It can be used in functions, in various areas of calculus, and in linear algebra: for example, simplifying expressions; computing differentials, integrals, and limits; working with matrices; solving equations. In a nutshell, SymPy can help you pass MATH1310 and MATH1410. For those who aren't York University math and science students, but who happen to be professionals in a STEM field, SymPy can greatly reduce the time and error margin involved in solving complex problems.\n",
    "\n",
    "Direct from the main SymPy website, SymPy can be used for: \n",
    "\"plotting, printing (like 2D pretty printed output of math formulas, or LATEX), code generation, physics, statistics, combinatorics, number theory, geometry, logic, and more\" (https://docs.sympy.org/latest/tutorial/intro.html#the-power-of-symbolic-computation).\n",
    "\n",
    "If that doesn't get you excited to do some Python math, I don't know what will.\n",
    "\n",
    "### There are other CAS libraries, so why choose SymPy?\n",
    "\n",
    "Excellent question. That all depends on your mathematical needs. Axiom (http://axiom-developer.org/) is an excellent open source alternative, as a general computer algebra system. It is mostly used by mathematical researchers, whereas SymPy is more often used for scientific research as well as mathematics. Additionally, SymPy is available on more operating systems than Axiom, since it is a pure Python program and requires only Python 2.7 and above (https://github.com/sympy/sympy/wiki/SymPy-vs.-Axiom). Overall, both are good options, but SymPy is more accessible due to its only dependability being Python 2.7 or higher, and it's ease of use: if you're already using Python, you can use SymPy, as its language and syntax are the same.\n",
    "\n",
    "Magma (http://magma.maths.usyd.edu.au/magma/) is another CAS very similar to SymPy and can handle many of the same types of expressions and mathematics. However, Magma does not have the ability to perform plotting, while SymPy, with the addition of another library called Pyglet, can perform sophisticated plots. Magma is also proprietary software, and while a free trial is available, any prolonged use requires purchase of a licence of its latest version, v2.18-2. \n",
    "\n",
    "Additional comparisons between SymPy and similar CAS libraries can be found at https://github.com/sympy/sympy/wiki#documentation. Many of these are proprietary and require purchase, often upwards of $1000 USD. SymPy, on the other hand, is not only free, but its source code can be altered and sold for profit, according to its BSD licence. \n",
    "\n",
    "SymPy is a highly user-friendly, easy to download and install CAS library with a lot of online support. Depending on your particular mathematical needs, it serves as an ideal choice for symbolic computing. "
   ]
  },
  {
   "cell_type": "markdown",
   "metadata": {},
   "source": [
    "### SymPy in Action:\n",
    "\n",
    "In the introduction to this notebook there are a few minor examples of how SymPy works differently than other mathematics libraries. Below are some more advanced functions and expressions that SymPy can handle and how they make scientific and mathematical computing easier.\n",
    "\n",
    "These examples all come from the SymPy website's tutorials:\n",
    "https://docs.sympy.org/latest/tutorial/intro.html#the-power-of-symbolic-computation\n",
    "\n",
    "The most important feature to remember about SymPy is that variables <b>must be defined</b>. Take the expression `x+2y`:"
   ]
  },
  {
   "cell_type": "code",
   "execution_count": 16,
   "metadata": {
    "collapsed": false
   },
   "outputs": [
    {
     "data": {
      "text/plain": [
       "x + 2*y"
      ]
     },
     "execution_count": 16,
     "metadata": {},
     "output_type": "execute_result"
    }
   ],
   "source": [
    "from sympy import symbols\n",
    "x, y = symbols('x y')\n",
    "expr = x + 2*y\n",
    "expr"
   ]
  },
  {
   "cell_type": "markdown",
   "metadata": {},
   "source": [
    "Normally, Python will evaluate the expression `x + 2*y`, but SymPy returns the variable `expr` as the expression `x + 2*y`. Now we can work with this expression as a variable:"
   ]
  },
  {
   "cell_type": "code",
   "execution_count": 21,
   "metadata": {
    "collapsed": false
   },
   "outputs": [
    {
     "data": {
      "text/plain": [
       "x + 2*y + 1"
      ]
     },
     "execution_count": 21,
     "metadata": {},
     "output_type": "execute_result"
    }
   ],
   "source": [
    "expr + 1"
   ]
  },
  {
   "cell_type": "code",
   "execution_count": 23,
   "metadata": {
    "collapsed": false
   },
   "outputs": [
    {
     "data": {
      "text/plain": [
       "2*y"
      ]
     },
     "execution_count": 23,
     "metadata": {},
     "output_type": "execute_result"
    }
   ],
   "source": [
    "expr - x"
   ]
  },
  {
   "cell_type": "markdown",
   "metadata": {},
   "source": [
    "In the case above, SymPy simplifies the second expression, which automatically cancels `x` out. This is similar to how the expression `sympy.sqrt(8)` returns `2*sqrt(2)`. \n",
    "\n",
    "However, SymPy does not always simplify an expression, and this is most often the case when the form of the expression is not obvious, as in when there is a factored and expanded form of an equation. By default, SymPy will give the factored result when not explicitly told which form to give:"
   ]
  },
  {
   "cell_type": "code",
   "execution_count": 24,
   "metadata": {
    "collapsed": false
   },
   "outputs": [
    {
     "data": {
      "text/plain": [
       "x*(x + 2*y)"
      ]
     },
     "execution_count": 24,
     "metadata": {},
     "output_type": "execute_result"
    }
   ],
   "source": [
    "x*expr"
   ]
  },
  {
   "cell_type": "markdown",
   "metadata": {},
   "source": [
    "Based on the result from `expr - x = 2*y`, we might expect SymPy to return `x^2+2xy` from `x*expr`.\n",
    "\n",
    "In order to simplify the result, we can tell SymPy to either factor or expand the result:"
   ]
  },
  {
   "cell_type": "code",
   "execution_count": 25,
   "metadata": {
    "collapsed": false
   },
   "outputs": [
    {
     "data": {
      "text/plain": [
       "x**2 + 2*x*y"
      ]
     },
     "execution_count": 25,
     "metadata": {},
     "output_type": "execute_result"
    }
   ],
   "source": [
    "# to return an expanded result:\n",
    "from sympy import expand, factor\n",
    "expandedExpr = expand(x*expr)\n",
    "expandedExpr"
   ]
  },
  {
   "cell_type": "code",
   "execution_count": 27,
   "metadata": {
    "collapsed": false
   },
   "outputs": [
    {
     "data": {
      "text/plain": [
       "x*(x + 2*y)"
      ]
     },
     "execution_count": 27,
     "metadata": {},
     "output_type": "execute_result"
    }
   ],
   "source": [
    "# to return a factored result:\n",
    "factor(expandedExpr)"
   ]
  },
  {
   "cell_type": "markdown",
   "metadata": {},
   "source": [
    "#### Let's look at some calculus with SymPy\n",
    "\n",
    "First, to print mathematical expressions in unicode, we use this script:"
   ]
  },
  {
   "cell_type": "code",
   "execution_count": 33,
   "metadata": {
    "collapsed": false
   },
   "outputs": [],
   "source": [
    "from sympy import *\n",
    "init_printing(use_unicode=True)"
   ]
  },
  {
   "cell_type": "markdown",
   "metadata": {},
   "source": [
    "This makes our expressions easier for us to read.\n",
    "\n",
    "Now we will take the derivitive of `sin(x)e^x`. First, we define any variables we will be using, followed by the expression:"
   ]
  },
  {
   "cell_type": "code",
   "execution_count": 34,
   "metadata": {
    "collapsed": false
   },
   "outputs": [
    {
     "data": {
      "image/png": "[encoded data removed]",
      "text/latex": [
       "$$e^{x} \\sin{\\left (x \\right )} + e^{x} \\cos{\\left (x \\right )}$$"
      ],
      "text/plain": [
       " x           x       \n",
       "ℯ ⋅sin(x) + ℯ ⋅cos(x)"
      ]
     },
     "execution_count": 34,
     "metadata": {},
     "output_type": "execute_result"
    }
   ],
   "source": [
    "x, t, z, nu = symbols('x t z nu')\n",
    "diff(sin(x)*exp(x), x)\n"
   ]
  },
  {
   "cell_type": "markdown",
   "metadata": {},
   "source": [
    "Another example:\n",
    "\n",
    "Compute ∫(e^xsin(x)+e^xcos(x))d^x:"
   ]
  },
  {
   "cell_type": "code",
   "execution_count": 35,
   "metadata": {
    "collapsed": false
   },
   "outputs": [
    {
     "data": {
      "image/png": "[encoded data removed]",
      "text/latex": [
       "$$e^{x} \\sin{\\left (x \\right )}$$"
      ],
      "text/plain": [
       " x       \n",
       "ℯ ⋅sin(x)"
      ]
     },
     "execution_count": 35,
     "metadata": {},
     "output_type": "execute_result"
    }
   ],
   "source": [
    "integrate(exp(x)*sin(x) + exp(x)*cos(x), x)"
   ]
  },
  {
   "cell_type": "markdown",
   "metadata": {},
   "source": [
    "Whether you understand how to do calculus and algebra or not, the above examples illustrate the ability of SymPy not only to handle complex mathemetics, but to do so easily and symbolically, making it much faster and clearer to work with. The language and syntax is easy to learn as it uses the Python language."
   ]
  },
  {
   "cell_type": "markdown",
   "metadata": {},
   "source": [
    "#### Sources\n",
    "\n",
    "[work in progress]\n",
    "\n",
    "https://pypi.org/project/sympy/\n",
    "\n",
    "https://docs.sympy.org/latest/tutorial/preliminaries.html\n",
    "\n",
    "https://docs.sympy.org/latest/tutorial/intro.html#the-power-of-symbolic-computation\n",
    "\n",
    "https://github.com/sympy/sympy/wiki\n",
    "\n",
    "https://github.com/sympy/sympy/wiki#documentation\n",
    "\n",
    "https://docs.sympy.org/latest/outreach.html#planet-sympy\n",
    "\n",
    "https://www.sympygamma.com/\n",
    "\n",
    "https://docs.python.org/3/library/math.html"
   ]
  },
  {
   "cell_type": "code",
   "execution_count": null,
   "metadata": {
    "collapsed": true
   },
   "outputs": [],
   "source": []
  }
 ],
 "metadata": {
  "kernelspec": {
   "display_name": "Python 3",
   "language": "python",
   "name": "python3"
  },
  "language_info": {
   "codemirror_mode": {
    "name": "ipython",
    "version": 3
   },
   "file_extension": ".py",
   "mimetype": "text/x-python",
   "name": "python",
   "nbconvert_exporter": "python",
   "pygments_lexer": "ipython3",
   "version": "3.6.3"
  }
 },
 "nbformat": 4,
 "nbformat_minor": 2
}
