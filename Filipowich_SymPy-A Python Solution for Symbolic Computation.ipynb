{
 "cells": [
  {
   "cell_type": "markdown",
   "metadata": {},
   "source": [
    "# SymPy: A Python Solution for Symbolic Computation\n",
    "\n",
    "### SymPy is an open source Computer Algebra System (CAS) that allows the use of symbolic computation.\n",
    "\n",
    "To explain what SymPy does, when it becomes useful, and why it was developed, take the following example comparing SymPy and Python's math.py library (SymPy Development Team 2018).\n",
    "\n",
    "Python comes with the builtin math.py library, which can be imported into any shell to perform mathematical calculations beyond simple arithmetic (Python Software Foundation 2019). A common example is the square root function, or sqrt():"
   ]
  },
  {
   "cell_type": "code",
   "execution_count": 15,
   "metadata": {
    "collapsed": false
   },
   "outputs": [
    {
     "data": {
      "text/plain": [
       "5.0"
      ]
     },
     "execution_count": 15,
     "metadata": {},
     "output_type": "execute_result"
    }
   ],
   "source": [
    "import math\n",
    "math.sqrt(25)\n",
    "# this results in a perfect square"
   ]
  },
  {
   "cell_type": "markdown",
   "metadata": {},
   "source": [
    "The square root of 25 is a rational number, 5.0. However, in the case of irrational numbers such as `pi`, `e`, and the square root of 8, `math.sqrt()` returns an irrational number which can only be displayed as an approximation:"
   ]
  },
  {
   "cell_type": "code",
   "execution_count": 13,
   "metadata": {
    "collapsed": false,
    "scrolled": true
   },
   "outputs": [
    {
     "data": {
      "text/plain": [
       "2.8284271247461903"
      ]
     },
     "execution_count": 13,
     "metadata": {},
     "output_type": "execute_result"
    }
   ],
   "source": [
    "math.sqrt(8)\n",
    "# this results in an approximation of an irrational number"
   ]
  },
  {
   "cell_type": "markdown",
   "metadata": {},
   "source": [
    "If we are doing math that only requires an approximate decimal of the square root of 8, we can leave this equation only approximately evaluated. However, for instances which require an exact value, SymPy leaves imperfect square roots unevaluated and simplified:"
   ]
  },
  {
   "cell_type": "code",
   "execution_count": 14,
   "metadata": {
    "collapsed": false
   },
   "outputs": [
    {
     "data": {
      "text/plain": [
       "2*sqrt(2)"
      ]
     },
     "execution_count": 14,
     "metadata": {},
     "output_type": "execute_result"
    }
   ],
   "source": [
    "import sympy\n",
    "sympy.sqrt(8)\n",
    "# this results in an algebraic, or symbolic computation"
   ]
  },
  {
   "cell_type": "markdown",
   "metadata": {},
   "source": [
    "which translates into `√8 = √4⋅2 = 2√2`\n",
    "\n",
    "This final value, `2√2`, is an exact equivalent of the approximate value `2.8284271247461903`, but is left unevaluated, thereby increasing the speed of the program and reducing the chance of errors in a code.\n",
    "\n",
    "Python's builtin math.py library is not equipped to handle the advanced calculations and printing needs required in many science, engineering, and mathematics professions. That's where SymPy comes in. SymPy allows the use of symbolic computation, as well as the use of unicode and pretty pringting to print out equations in a more legible format, rather than the default Python equation formatting (SymPy Development Team 2018)."
   ]
  },
  {
   "cell_type": "markdown",
   "metadata": {},
   "source": [
    "### Makes sense, so where did SymPy come from?\n",
    "\n",
    "SymPy is an open source library released under the BSD Licence (https://opensource.org/licenses/BSD-2-Clause), and is developed and maintained by Aaron Meurer. Its first version, v0.5.13-hg, was released on April 1, 2008, with its latest release of v1.13 on September 14, 2018. The library is programmed purely with Python, and can be used by all Python versions 2.7 and above. It can also be used across all operating systems (PyPi 2018), which distinguishes it from other CAS libraries such as Axiom (Dhingra, G. 2017). \n",
    "\n",
    "Since its first release, SymPy has become highly reknowned and popular in scientific and mathematics computing communities. Many resources have been developed by the team behind SymPy as well as external users and delevopers. A Github file called \"SymPy Papers\", located at https://github.com/sympy/sympy/wiki/SymPy-Papers, tracks Zotero publications which cite the library. Another Github file in the SymPy Github wiki, https://github.com/sympy/sympy/wiki/Presentations, lists SymPy presentations from conferences across the globe. The wiki also provides a list of cookbooks for SymPy: https://github.com/sympy/sympy/wiki/Cookbook, and countless tutorials have been written both by the maintenance team and by external developers and users: https://github.com/sympy/sympy/wiki/External-SymPy-Media%2C-Tutorials%2C-and-Presentations. "
   ]
  },
  {
   "cell_type": "markdown",
   "metadata": {},
   "source": [
    "### Who uses SymPy and What can you do with it?\n",
    "\n",
    "SymPy is designed for use in mathematics, engineering, and physics (PyPi 2018). It can be used in functions, in various areas of calculus, and in linear algebra: for example, simplifying expressions; computing differentials, integrals, and limits; working with matrices; solving equations. In a nutshell, SymPy can help you pass MATH1310 and MATH1410. For those who aren't York University math and science students, but who happen to be professionals in a STEM field, SymPy can greatly reduce the time and error margin involved in solving complex problems.\n",
    "\n",
    "Direct from the main SymPy website, SymPy can be used for: \n",
    "\"plotting, printing (like 2D pretty printed output of math formulas, or LATEX), code generation, physics, statistics, combinatorics, number theory, geometry, logic, and more\" (SymPy Development Team 2018).\n",
    "\n",
    "If that doesn't get you excited to do some Python math, I don't know what will.\n",
    "\n",
    "### There are other CAS libraries, so why choose SymPy?\n",
    "\n",
    "Excellent question. That all depends on your mathematical needs. Axiom (http://axiom-developer.org/) is an excellent open source alternative, as a general computer algebra system. It is mostly used by mathematical researchers, whereas SymPy is more often used for scientific research as well as mathematics. Additionally, SymPy is available on more operating systems than Axiom, since it is a pure Python program and requires only Python 2.7 and above. Overall, both are good options, but SymPy is more accessible due to its only dependability being Python 2.7 or higher, and it's ease of use: if you're already using Python, you can use SymPy, as its language and syntax are the same (Dhingra, G 2017).\n",
    "\n",
    "Magma (http://magma.maths.usyd.edu.au/magma/) is another CAS very similar to SymPy and can handle many of the same types of expressions and mathematics. However, Magma does not have the ability to perform plotting, while SymPy, with the addition of other libraries such as Matplotlib, can perform sophisticated plots. Magma is also proprietary software, and while a free trial is available, any prolonged use requires purchase of a licence of its latest version, v2.18-2 (Guarín-Zapata, N. 2016). \n",
    "\n",
    "Additional comparisons between SymPy and similar CAS libraries can be found at https://github.com/sympy/sympy/wiki#documentation. Many of these are proprietary and require purchase, often upwards of $1000 USD (SymPy Development Team 2018). SymPy, on the other hand, is not only free, but its source code can be altered and sold for profit, according to its BSD licence (Open Source Initiative ND). \n",
    "\n",
    "SymPy is a highly user-friendly, easy to download and install CAS library with a lot of online support. Depending on your particular mathematical needs, it serves as an ideal choice for symbolic computing (SymPy Development Team 2018). "
   ]
  },
  {
   "cell_type": "markdown",
   "metadata": {},
   "source": [
    "### SymPy in Action:\n",
    "\n",
    "In the introduction to this notebook there are a few minor examples of how SymPy works differently than other mathematics libraries. Below are some more advanced functions and expressions that SymPy can handle and how they make scientific and mathematical computing easier.\n",
    "\n",
    "The basic code for first two examples come from the SymPy docs tutorials:\n",
    "https://docs.sympy.org/latest/tutorial/intro.html#the-power-of-symbolic-computation (SymPy Development Team 2018). The basic code for last example comes from a user, Pedro Jorge De Los Santos, from Stack Overflow: https://stackoverflow.com/questions/40747474/sympy-and-plotting\n",
    "\n",
    "The most important feature to remember about SymPy is that variables <b>must be defined</b>. Take the expression `x+2y`:"
   ]
  },
  {
   "cell_type": "code",
   "execution_count": 16,
   "metadata": {
    "collapsed": false
   },
   "outputs": [
    {
     "data": {
      "text/plain": [
       "x + 2*y"
      ]
     },
     "execution_count": 16,
     "metadata": {},
     "output_type": "execute_result"
    }
   ],
   "source": [
    "from sympy import symbols\n",
    "x, y = symbols('x y')\n",
    "expr = x + 2*y\n",
    "expr"
   ]
  },
  {
   "cell_type": "markdown",
   "metadata": {},
   "source": [
    "Normally, Python will evaluate the expression `x + 2*y`, but SymPy returns the variable `expr` as the expression `x + 2*y`. Now we can work with this expression as a variable:"
   ]
  },
  {
   "cell_type": "code",
   "execution_count": 21,
   "metadata": {
    "collapsed": false
   },
   "outputs": [
    {
     "data": {
      "text/plain": [
       "x + 2*y + 1"
      ]
     },
     "execution_count": 21,
     "metadata": {},
     "output_type": "execute_result"
    }
   ],
   "source": [
    "expr + 1"
   ]
  },
  {
   "cell_type": "code",
   "execution_count": 23,
   "metadata": {
    "collapsed": false
   },
   "outputs": [
    {
     "data": {
      "text/plain": [
       "2*y"
      ]
     },
     "execution_count": 23,
     "metadata": {},
     "output_type": "execute_result"
    }
   ],
   "source": [
    "expr - x"
   ]
  },
  {
   "cell_type": "markdown",
   "metadata": {},
   "source": [
    "In the case above, SymPy simplifies the second expression, which automatically cancels `x` out. This is similar to how the expression `sympy.sqrt(8)` returns `2*sqrt(2)`. \n",
    "\n",
    "However, SymPy does not always simplify an expression, and this is most often the case when the form of the expression is not obvious, as in when there is a factored and expanded form of an equation. By default, SymPy will give the factored result when not explicitly told which form to give:"
   ]
  },
  {
   "cell_type": "code",
   "execution_count": 24,
   "metadata": {
    "collapsed": false
   },
   "outputs": [
    {
     "data": {
      "text/plain": [
       "x*(x + 2*y)"
      ]
     },
     "execution_count": 24,
     "metadata": {},
     "output_type": "execute_result"
    }
   ],
   "source": [
    "x*expr"
   ]
  },
  {
   "cell_type": "markdown",
   "metadata": {},
   "source": [
    "Based on the result from `expr - x = 2*y`, we might expect SymPy to return `x^2+2xy` from `x*expr`.\n",
    "\n",
    "In order to simplify the result, we can tell SymPy to either factor or expand the result:"
   ]
  },
  {
   "cell_type": "code",
   "execution_count": 25,
   "metadata": {
    "collapsed": false
   },
   "outputs": [
    {
     "data": {
      "text/plain": [
       "x**2 + 2*x*y"
      ]
     },
     "execution_count": 25,
     "metadata": {},
     "output_type": "execute_result"
    }
   ],
   "source": [
    "# to return an expanded result:\n",
    "from sympy import expand, factor\n",
    "expandedExpr = expand(x*expr)\n",
    "expandedExpr"
   ]
  },
  {
   "cell_type": "code",
   "execution_count": 27,
   "metadata": {
    "collapsed": false
   },
   "outputs": [
    {
     "data": {
      "text/plain": [
       "x*(x + 2*y)"
      ]
     },
     "execution_count": 27,
     "metadata": {},
     "output_type": "execute_result"
    }
   ],
   "source": [
    "# to return a factored result:\n",
    "factor(expandedExpr)"
   ]
  },
  {
   "cell_type": "markdown",
   "metadata": {},
   "source": [
    "#### Let's look at some calculus with SymPy\n",
    "\n",
    "First, to print mathematical expressions in unicode, we use this script:"
   ]
  },
  {
   "cell_type": "code",
   "execution_count": 5,
   "metadata": {
    "collapsed": false
   },
   "outputs": [],
   "source": [
    "from sympy import *\n",
    "init_printing(use_unicode=True)"
   ]
  },
  {
   "cell_type": "markdown",
   "metadata": {},
   "source": [
    "This makes our expressions easier for us to read. Other print types can be used with the same function call: init_printing(); init_printing(pretty_print), init_printing(use_unicode=False), etc. However, some shells cannot print in certain types and the result will print in whichever type it can (SymPy Development Team 2018).\n",
    "\n",
    "Now we will take the derivitive of `sin(x)*e**x`. First, we define any variables we will be using, followed by the expression:"
   ]
  },
  {
   "cell_type": "code",
   "execution_count": 6,
   "metadata": {
    "collapsed": false
   },
   "outputs": [
    {
     "data": {
      "image/png": "[encoded data removed]",
      "text/latex": [
       "$$e^{x} \\sin{\\left (x \\right )} + e^{x} \\cos{\\left (x \\right )}$$"
      ],
      "text/plain": [
       " x           x       \n",
       "ℯ ⋅sin(x) + ℯ ⋅cos(x)"
      ]
     },
     "execution_count": 6,
     "metadata": {},
     "output_type": "execute_result"
    }
   ],
   "source": [
    "x, t, z, nu = symbols('x t z nu')\n",
    "diff(sin(x)*exp(x), x)\n"
   ]
  },
  {
   "cell_type": "markdown",
   "metadata": {},
   "source": [
    "Another example:\n",
    "\n",
    "Compute ∫(e^xsin(x)+e^xcos(x))d^x:"
   ]
  },
  {
   "cell_type": "code",
   "execution_count": 7,
   "metadata": {
    "collapsed": false
   },
   "outputs": [
    {
     "data": {
      "image/png": "[encoded data removed]",
      "text/latex": [
       "$$e^{x} \\sin{\\left (x \\right )}$$"
      ],
      "text/plain": [
       " x       \n",
       "ℯ ⋅sin(x)"
      ]
     },
     "execution_count": 7,
     "metadata": {},
     "output_type": "execute_result"
    }
   ],
   "source": [
    "integrate(exp(x)*sin(x) + exp(x)*cos(x), x)"
   ]
  },
  {
   "cell_type": "markdown",
   "metadata": {},
   "source": [
    "Whether you understand how to do calculus and algebra or not, the above examples illustrate the ability of SymPy not only to handle complex mathemetics, but to do so easily and symbolically, making it much faster and clearer to work with. The language and syntax is easy to learn as it uses the Python language (SymPy Development Team 2018).\n",
    "\n",
    "This also means that SymPy calculations can integrate easily with other Python code and modules. When developing software that requires a plotted graph or other data, you can simply import SymPy into your existing code and add the script for your data, or create a separate .py file and import it with SymPy.\n",
    "\n",
    "#### Plotting with SymPy and other modules:\n",
    "\n",
    "Let's take a look at a final example program in which we create two plots on one interactive graph, integrated with the standard Python library as well as a few other libraries: Numpy and Matplotlib.pyplot."
   ]
  },
  {
   "cell_type": "code",
   "execution_count": 1,
   "metadata": {
    "collapsed": false,
    "scrolled": true
   },
   "outputs": [
    {
     "data": {
      "application/javascript": [
       "/* Put everything inside the global mpl namespace */\n",
       "window.mpl = {};\n",
       "\n",
       "\n",
       "mpl.get_websocket_type = function() {\n",
       "    if (typeof(WebSocket) !== 'undefined') {\n",
       "        return WebSocket;\n",
       "    } else if (typeof(MozWebSocket) !== 'undefined') {\n",
       "        return MozWebSocket;\n",
       "    } else {\n",
       "        alert('Your browser does not have WebSocket support.' +\n",
       "              'Please try Chrome, Safari or Firefox ≥ 6. ' +\n",
       "              'Firefox 4 and 5 are also supported but you ' +\n",
       "              'have to enable WebSockets in about:config.');\n",
       "    };\n",
       "}\n",
       "\n",
       "mpl.figure = function(figure_id, websocket, ondownload, parent_element) {\n",
       "    this.id = figure_id;\n",
       "\n",
       "    this.ws = websocket;\n",
       "\n",
       "    this.supports_binary = (this.ws.binaryType != undefined);\n",
       "\n",
       "    if (!this.supports_binary) {\n",
       "        var warnings = document.getElementById(\"mpl-warnings\");\n",
       "        if (warnings) {\n",
       "            warnings.style.display = 'block';\n",
       "            warnings.textContent = (\n",
       "                \"This browser does not support binary websocket messages. \" +\n",
       "                    \"Performance may be slow.\");\n",
       "        }\n",
       "    }\n",
       "\n",
       "    this.imageObj = new Image();\n",
       "\n",
       "    this.context = undefined;\n",
       "    this.message = undefined;\n",
       "    this.canvas = undefined;\n",
       "    this.rubberband_canvas = undefined;\n",
       "    this.rubberband_context = undefined;\n",
       "    this.format_dropdown = undefined;\n",
       "\n",
       "    this.image_mode = 'full';\n",
       "\n",
       "    this.root = $('<div/>');\n",
       "    this._root_extra_style(this.root)\n",
       "    this.root.attr('style', 'display: inline-block');\n",
       "\n",
       "    $(parent_element).append(this.root);\n",
       "\n",
       "    this._init_header(this);\n",
       "    this._init_canvas(this);\n",
       "    this._init_toolbar(this);\n",
       "\n",
       "    var fig = this;\n",
       "\n",
       "    this.waiting = false;\n",
       "\n",
       "    this.ws.onopen =  function () {\n",
       "            fig.send_message(\"supports_binary\", {value: fig.supports_binary});\n",
       "            fig.send_message(\"send_image_mode\", {});\n",
       "            if (mpl.ratio != 1) {\n",
       "                fig.send_message(\"set_dpi_ratio\", {'dpi_ratio': mpl.ratio});\n",
       "            }\n",
       "            fig.send_message(\"refresh\", {});\n",
       "        }\n",
       "\n",
       "    this.imageObj.onload = function() {\n",
       "            if (fig.image_mode == 'full') {\n",
       "                // Full images could contain transparency (where diff images\n",
       "                // almost always do), so we need to clear the canvas so that\n",
       "                // there is no ghosting.\n",
       "                fig.context.clearRect(0, 0, fig.canvas.width, fig.canvas.height);\n",
       "            }\n",
       "            fig.context.drawImage(fig.imageObj, 0, 0);\n",
       "        };\n",
       "\n",
       "    this.imageObj.onunload = function() {\n",
       "        fig.ws.close();\n",
       "    }\n",
       "\n",
       "    this.ws.onmessage = this._make_on_message_function(this);\n",
       "\n",
       "    this.ondownload = ondownload;\n",
       "}\n",
       "\n",
       "mpl.figure.prototype._init_header = function() {\n",
       "    var titlebar = $(\n",
       "        '<div class=\"ui-dialog-titlebar ui-widget-header ui-corner-all ' +\n",
       "        'ui-helper-clearfix\"/>');\n",
       "    var titletext = $(\n",
       "        '<div class=\"ui-dialog-title\" style=\"width: 100%; ' +\n",
       "        'text-align: center; padding: 3px;\"/>');\n",
       "    titlebar.append(titletext)\n",
       "    this.root.append(titlebar);\n",
       "    this.header = titletext[0];\n",
       "}\n",
       "\n",
       "\n",
       "\n",
       "mpl.figure.prototype._canvas_extra_style = function(canvas_div) {\n",
       "\n",
       "}\n",
       "\n",
       "\n",
       "mpl.figure.prototype._root_extra_style = function(canvas_div) {\n",
       "\n",
       "}\n",
       "\n",
       "mpl.figure.prototype._init_canvas = function() {\n",
       "    var fig = this;\n",
       "\n",
       "    var canvas_div = $('<div/>');\n",
       "\n",
       "    canvas_div.attr('style', 'position: relative; clear: both; outline: 0');\n",
       "\n",
       "    function canvas_keyboard_event(event) {\n",
       "        return fig.key_event(event, event['data']);\n",
       "    }\n",
       "\n",
       "    canvas_div.keydown('key_press', canvas_keyboard_event);\n",
       "    canvas_div.keyup('key_release', canvas_keyboard_event);\n",
       "    this.canvas_div = canvas_div\n",
       "    this._canvas_extra_style(canvas_div)\n",
       "    this.root.append(canvas_div);\n",
       "\n",
       "    var canvas = $('<canvas/>');\n",
       "    canvas.addClass('mpl-canvas');\n",
       "    canvas.attr('style', \"left: 0; top: 0; z-index: 0; outline: 0\")\n",
       "\n",
       "    this.canvas = canvas[0];\n",
       "    this.context = canvas[0].getContext(\"2d\");\n",
       "\n",
       "    var backingStore = this.context.backingStorePixelRatio ||\n",
       "\tthis.context.webkitBackingStorePixelRatio ||\n",
       "\tthis.context.mozBackingStorePixelRatio ||\n",
       "\tthis.context.msBackingStorePixelRatio ||\n",
       "\tthis.context.oBackingStorePixelRatio ||\n",
       "\tthis.context.backingStorePixelRatio || 1;\n",
       "\n",
       "    mpl.ratio = (window.devicePixelRatio || 1) / backingStore;\n",
       "\n",
       "    var rubberband = $('<canvas/>');\n",
       "    rubberband.attr('style', \"position: absolute; left: 0; top: 0; z-index: 1;\")\n",
       "\n",
       "    var pass_mouse_events = true;\n",
       "\n",
       "    canvas_div.resizable({\n",
       "        start: function(event, ui) {\n",
       "            pass_mouse_events = false;\n",
       "        },\n",
       "        resize: function(event, ui) {\n",
       "            fig.request_resize(ui.size.width, ui.size.height);\n",
       "        },\n",
       "        stop: function(event, ui) {\n",
       "            pass_mouse_events = true;\n",
       "            fig.request_resize(ui.size.width, ui.size.height);\n",
       "        },\n",
       "    });\n",
       "\n",
       "    function mouse_event_fn(event) {\n",
       "        if (pass_mouse_events)\n",
       "            return fig.mouse_event(event, event['data']);\n",
       "    }\n",
       "\n",
       "    rubberband.mousedown('button_press', mouse_event_fn);\n",
       "    rubberband.mouseup('button_release', mouse_event_fn);\n",
       "    // Throttle sequential mouse events to 1 every 20ms.\n",
       "    rubberband.mousemove('motion_notify', mouse_event_fn);\n",
       "\n",
       "    rubberband.mouseenter('figure_enter', mouse_event_fn);\n",
       "    rubberband.mouseleave('figure_leave', mouse_event_fn);\n",
       "\n",
       "    canvas_div.on(\"wheel\", function (event) {\n",
       "        event = event.originalEvent;\n",
       "        event['data'] = 'scroll'\n",
       "        if (event.deltaY < 0) {\n",
       "            event.step = 1;\n",
       "        } else {\n",
       "            event.step = -1;\n",
       "        }\n",
       "        mouse_event_fn(event);\n",
       "    });\n",
       "\n",
       "    canvas_div.append(canvas);\n",
       "    canvas_div.append(rubberband);\n",
       "\n",
       "    this.rubberband = rubberband;\n",
       "    this.rubberband_canvas = rubberband[0];\n",
       "    this.rubberband_context = rubberband[0].getContext(\"2d\");\n",
       "    this.rubberband_context.strokeStyle = \"#000000\";\n",
       "\n",
       "    this._resize_canvas = function(width, height) {\n",
       "        // Keep the size of the canvas, canvas container, and rubber band\n",
       "        // canvas in synch.\n",
       "        canvas_div.css('width', width)\n",
       "        canvas_div.css('height', height)\n",
       "\n",
       "        canvas.attr('width', width * mpl.ratio);\n",
       "        canvas.attr('height', height * mpl.ratio);\n",
       "        canvas.attr('style', 'width: ' + width + 'px; height: ' + height + 'px;');\n",
       "\n",
       "        rubberband.attr('width', width);\n",
       "        rubberband.attr('height', height);\n",
       "    }\n",
       "\n",
       "    // Set the figure to an initial 600x600px, this will subsequently be updated\n",
       "    // upon first draw.\n",
       "    this._resize_canvas(600, 600);\n",
       "\n",
       "    // Disable right mouse context menu.\n",
       "    $(this.rubberband_canvas).bind(\"contextmenu\",function(e){\n",
       "        return false;\n",
       "    });\n",
       "\n",
       "    function set_focus () {\n",
       "        canvas.focus();\n",
       "        canvas_div.focus();\n",
       "    }\n",
       "\n",
       "    window.setTimeout(set_focus, 100);\n",
       "}\n",
       "\n",
       "mpl.figure.prototype._init_toolbar = function() {\n",
       "    var fig = this;\n",
       "\n",
       "    var nav_element = $('<div/>')\n",
       "    nav_element.attr('style', 'width: 100%');\n",
       "    this.root.append(nav_element);\n",
       "\n",
       "    // Define a callback function for later on.\n",
       "    function toolbar_event(event) {\n",
       "        return fig.toolbar_button_onclick(event['data']);\n",
       "    }\n",
       "    function toolbar_mouse_event(event) {\n",
       "        return fig.toolbar_button_onmouseover(event['data']);\n",
       "    }\n",
       "\n",
       "    for(var toolbar_ind in mpl.toolbar_items) {\n",
       "        var name = mpl.toolbar_items[toolbar_ind][0];\n",
       "        var tooltip = mpl.toolbar_items[toolbar_ind][1];\n",
       "        var image = mpl.toolbar_items[toolbar_ind][2];\n",
       "        var method_name = mpl.toolbar_items[toolbar_ind][3];\n",
       "\n",
       "        if (!name) {\n",
       "            // put a spacer in here.\n",
       "            continue;\n",
       "        }\n",
       "        var button = $('<button/>');\n",
       "        button.addClass('ui-button ui-widget ui-state-default ui-corner-all ' +\n",
       "                        'ui-button-icon-only');\n",
       "        button.attr('role', 'button');\n",
       "        button.attr('aria-disabled', 'false');\n",
       "        button.click(method_name, toolbar_event);\n",
       "        button.mouseover(tooltip, toolbar_mouse_event);\n",
       "\n",
       "        var icon_img = $('<span/>');\n",
       "        icon_img.addClass('ui-button-icon-primary ui-icon');\n",
       "        icon_img.addClass(image);\n",
       "        icon_img.addClass('ui-corner-all');\n",
       "\n",
       "        var tooltip_span = $('<span/>');\n",
       "        tooltip_span.addClass('ui-button-text');\n",
       "        tooltip_span.html(tooltip);\n",
       "\n",
       "        button.append(icon_img);\n",
       "        button.append(tooltip_span);\n",
       "\n",
       "        nav_element.append(button);\n",
       "    }\n",
       "\n",
       "    var fmt_picker_span = $('<span/>');\n",
       "\n",
       "    var fmt_picker = $('<select/>');\n",
       "    fmt_picker.addClass('mpl-toolbar-option ui-widget ui-widget-content');\n",
       "    fmt_picker_span.append(fmt_picker);\n",
       "    nav_element.append(fmt_picker_span);\n",
       "    this.format_dropdown = fmt_picker[0];\n",
       "\n",
       "    for (var ind in mpl.extensions) {\n",
       "        var fmt = mpl.extensions[ind];\n",
       "        var option = $(\n",
       "            '<option/>', {selected: fmt === mpl.default_extension}).html(fmt);\n",
       "        fmt_picker.append(option)\n",
       "    }\n",
       "\n",
       "    // Add hover states to the ui-buttons\n",
       "    $( \".ui-button\" ).hover(\n",
       "        function() { $(this).addClass(\"ui-state-hover\");},\n",
       "        function() { $(this).removeClass(\"ui-state-hover\");}\n",
       "    );\n",
       "\n",
       "    var status_bar = $('<span class=\"mpl-message\"/>');\n",
       "    nav_element.append(status_bar);\n",
       "    this.message = status_bar[0];\n",
       "}\n",
       "\n",
       "mpl.figure.prototype.request_resize = function(x_pixels, y_pixels) {\n",
       "    // Request matplotlib to resize the figure. Matplotlib will then trigger a resize in the client,\n",
       "    // which will in turn request a refresh of the image.\n",
       "    this.send_message('resize', {'width': x_pixels, 'height': y_pixels});\n",
       "}\n",
       "\n",
       "mpl.figure.prototype.send_message = function(type, properties) {\n",
       "    properties['type'] = type;\n",
       "    properties['figure_id'] = this.id;\n",
       "    this.ws.send(JSON.stringify(properties));\n",
       "}\n",
       "\n",
       "mpl.figure.prototype.send_draw_message = function() {\n",
       "    if (!this.waiting) {\n",
       "        this.waiting = true;\n",
       "        this.ws.send(JSON.stringify({type: \"draw\", figure_id: this.id}));\n",
       "    }\n",
       "}\n",
       "\n",
       "\n",
       "mpl.figure.prototype.handle_save = function(fig, msg) {\n",
       "    var format_dropdown = fig.format_dropdown;\n",
       "    var format = format_dropdown.options[format_dropdown.selectedIndex].value;\n",
       "    fig.ondownload(fig, format);\n",
       "}\n",
       "\n",
       "\n",
       "mpl.figure.prototype.handle_resize = function(fig, msg) {\n",
       "    var size = msg['size'];\n",
       "    if (size[0] != fig.canvas.width || size[1] != fig.canvas.height) {\n",
       "        fig._resize_canvas(size[0], size[1]);\n",
       "        fig.send_message(\"refresh\", {});\n",
       "    };\n",
       "}\n",
       "\n",
       "mpl.figure.prototype.handle_rubberband = function(fig, msg) {\n",
       "    var x0 = msg['x0'] / mpl.ratio;\n",
       "    var y0 = (fig.canvas.height - msg['y0']) / mpl.ratio;\n",
       "    var x1 = msg['x1'] / mpl.ratio;\n",
       "    var y1 = (fig.canvas.height - msg['y1']) / mpl.ratio;\n",
       "    x0 = Math.floor(x0) + 0.5;\n",
       "    y0 = Math.floor(y0) + 0.5;\n",
       "    x1 = Math.floor(x1) + 0.5;\n",
       "    y1 = Math.floor(y1) + 0.5;\n",
       "    var min_x = Math.min(x0, x1);\n",
       "    var min_y = Math.min(y0, y1);\n",
       "    var width = Math.abs(x1 - x0);\n",
       "    var height = Math.abs(y1 - y0);\n",
       "\n",
       "    fig.rubberband_context.clearRect(\n",
       "        0, 0, fig.canvas.width, fig.canvas.height);\n",
       "\n",
       "    fig.rubberband_context.strokeRect(min_x, min_y, width, height);\n",
       "}\n",
       "\n",
       "mpl.figure.prototype.handle_figure_label = function(fig, msg) {\n",
       "    // Updates the figure title.\n",
       "    fig.header.textContent = msg['label'];\n",
       "}\n",
       "\n",
       "mpl.figure.prototype.handle_cursor = function(fig, msg) {\n",
       "    var cursor = msg['cursor'];\n",
       "    switch(cursor)\n",
       "    {\n",
       "    case 0:\n",
       "        cursor = 'pointer';\n",
       "        break;\n",
       "    case 1:\n",
       "        cursor = 'default';\n",
       "        break;\n",
       "    case 2:\n",
       "        cursor = 'crosshair';\n",
       "        break;\n",
       "    case 3:\n",
       "        cursor = 'move';\n",
       "        break;\n",
       "    }\n",
       "    fig.rubberband_canvas.style.cursor = cursor;\n",
       "}\n",
       "\n",
       "mpl.figure.prototype.handle_message = function(fig, msg) {\n",
       "    fig.message.textContent = msg['message'];\n",
       "}\n",
       "\n",
       "mpl.figure.prototype.handle_draw = function(fig, msg) {\n",
       "    // Request the server to send over a new figure.\n",
       "    fig.send_draw_message();\n",
       "}\n",
       "\n",
       "mpl.figure.prototype.handle_image_mode = function(fig, msg) {\n",
       "    fig.image_mode = msg['mode'];\n",
       "}\n",
       "\n",
       "mpl.figure.prototype.updated_canvas_event = function() {\n",
       "    // Called whenever the canvas gets updated.\n",
       "    this.send_message(\"ack\", {});\n",
       "}\n",
       "\n",
       "// A function to construct a web socket function for onmessage handling.\n",
       "// Called in the figure constructor.\n",
       "mpl.figure.prototype._make_on_message_function = function(fig) {\n",
       "    return function socket_on_message(evt) {\n",
       "        if (evt.data instanceof Blob) {\n",
       "            /* FIXME: We get \"Resource interpreted as Image but\n",
       "             * transferred with MIME type text/plain:\" errors on\n",
       "             * Chrome.  But how to set the MIME type?  It doesn't seem\n",
       "             * to be part of the websocket stream */\n",
       "            evt.data.type = \"image/png\";\n",
       "\n",
       "            /* Free the memory for the previous frames */\n",
       "            if (fig.imageObj.src) {\n",
       "                (window.URL || window.webkitURL).revokeObjectURL(\n",
       "                    fig.imageObj.src);\n",
       "            }\n",
       "\n",
       "            fig.imageObj.src = (window.URL || window.webkitURL).createObjectURL(\n",
       "                evt.data);\n",
       "            fig.updated_canvas_event();\n",
       "            fig.waiting = false;\n",
       "            return;\n",
       "        }\n",
       "        else if (typeof evt.data === 'string' && evt.data.slice(0, 21) == \"data:image/png;base64\") {\n",
       "            fig.imageObj.src = evt.data;\n",
       "            fig.updated_canvas_event();\n",
       "            fig.waiting = false;\n",
       "            return;\n",
       "        }\n",
       "\n",
       "        var msg = JSON.parse(evt.data);\n",
       "        var msg_type = msg['type'];\n",
       "\n",
       "        // Call the  \"handle_{type}\" callback, which takes\n",
       "        // the figure and JSON message as its only arguments.\n",
       "        try {\n",
       "            var callback = fig[\"handle_\" + msg_type];\n",
       "        } catch (e) {\n",
       "            console.log(\"No handler for the '\" + msg_type + \"' message type: \", msg);\n",
       "            return;\n",
       "        }\n",
       "\n",
       "        if (callback) {\n",
       "            try {\n",
       "                // console.log(\"Handling '\" + msg_type + \"' message: \", msg);\n",
       "                callback(fig, msg);\n",
       "            } catch (e) {\n",
       "                console.log(\"Exception inside the 'handler_\" + msg_type + \"' callback:\", e, e.stack, msg);\n",
       "            }\n",
       "        }\n",
       "    };\n",
       "}\n",
       "\n",
       "// from http://stackoverflow.com/questions/1114465/getting-mouse-location-in-canvas\n",
       "mpl.findpos = function(e) {\n",
       "    //this section is from http://www.quirksmode.org/js/events_properties.html\n",
       "    var targ;\n",
       "    if (!e)\n",
       "        e = window.event;\n",
       "    if (e.target)\n",
       "        targ = e.target;\n",
       "    else if (e.srcElement)\n",
       "        targ = e.srcElement;\n",
       "    if (targ.nodeType == 3) // defeat Safari bug\n",
       "        targ = targ.parentNode;\n",
       "\n",
       "    // jQuery normalizes the pageX and pageY\n",
       "    // pageX,Y are the mouse positions relative to the document\n",
       "    // offset() returns the position of the element relative to the document\n",
       "    var x = e.pageX - $(targ).offset().left;\n",
       "    var y = e.pageY - $(targ).offset().top;\n",
       "\n",
       "    return {\"x\": x, \"y\": y};\n",
       "};\n",
       "\n",
       "/*\n",
       " * return a copy of an object with only non-object keys\n",
       " * we need this to avoid circular references\n",
       " * http://stackoverflow.com/a/24161582/3208463\n",
       " */\n",
       "function simpleKeys (original) {\n",
       "  return Object.keys(original).reduce(function (obj, key) {\n",
       "    if (typeof original[key] !== 'object')\n",
       "        obj[key] = original[key]\n",
       "    return obj;\n",
       "  }, {});\n",
       "}\n",
       "\n",
       "mpl.figure.prototype.mouse_event = function(event, name) {\n",
       "    var canvas_pos = mpl.findpos(event)\n",
       "\n",
       "    if (name === 'button_press')\n",
       "    {\n",
       "        this.canvas.focus();\n",
       "        this.canvas_div.focus();\n",
       "    }\n",
       "\n",
       "    var x = canvas_pos.x * mpl.ratio;\n",
       "    var y = canvas_pos.y * mpl.ratio;\n",
       "\n",
       "    this.send_message(name, {x: x, y: y, button: event.button,\n",
       "                             step: event.step,\n",
       "                             guiEvent: simpleKeys(event)});\n",
       "\n",
       "    /* This prevents the web browser from automatically changing to\n",
       "     * the text insertion cursor when the button is pressed.  We want\n",
       "     * to control all of the cursor setting manually through the\n",
       "     * 'cursor' event from matplotlib */\n",
       "    event.preventDefault();\n",
       "    return false;\n",
       "}\n",
       "\n",
       "mpl.figure.prototype._key_event_extra = function(event, name) {\n",
       "    // Handle any extra behaviour associated with a key event\n",
       "}\n",
       "\n",
       "mpl.figure.prototype.key_event = function(event, name) {\n",
       "\n",
       "    // Prevent repeat events\n",
       "    if (name == 'key_press')\n",
       "    {\n",
       "        if (event.which === this._key)\n",
       "            return;\n",
       "        else\n",
       "            this._key = event.which;\n",
       "    }\n",
       "    if (name == 'key_release')\n",
       "        this._key = null;\n",
       "\n",
       "    var value = '';\n",
       "    if (event.ctrlKey && event.which != 17)\n",
       "        value += \"ctrl+\";\n",
       "    if (event.altKey && event.which != 18)\n",
       "        value += \"alt+\";\n",
       "    if (event.shiftKey && event.which != 16)\n",
       "        value += \"shift+\";\n",
       "\n",
       "    value += 'k';\n",
       "    value += event.which.toString();\n",
       "\n",
       "    this._key_event_extra(event, name);\n",
       "\n",
       "    this.send_message(name, {key: value,\n",
       "                             guiEvent: simpleKeys(event)});\n",
       "    return false;\n",
       "}\n",
       "\n",
       "mpl.figure.prototype.toolbar_button_onclick = function(name) {\n",
       "    if (name == 'download') {\n",
       "        this.handle_save(this, null);\n",
       "    } else {\n",
       "        this.send_message(\"toolbar_button\", {name: name});\n",
       "    }\n",
       "};\n",
       "\n",
       "mpl.figure.prototype.toolbar_button_onmouseover = function(tooltip) {\n",
       "    this.message.textContent = tooltip;\n",
       "};\n",
       "mpl.toolbar_items = [[\"Home\", \"Reset original view\", \"fa fa-home icon-home\", \"home\"], [\"Back\", \"Back to previous view\", \"fa fa-arrow-left icon-arrow-left\", \"back\"], [\"Forward\", \"Forward to next view\", \"fa fa-arrow-right icon-arrow-right\", \"forward\"], [\"\", \"\", \"\", \"\"], [\"Pan\", \"Pan axes with left mouse, zoom with right\", \"fa fa-arrows icon-move\", \"pan\"], [\"Zoom\", \"Zoom to rectangle\", \"fa fa-square-o icon-check-empty\", \"zoom\"], [\"\", \"\", \"\", \"\"], [\"Download\", \"Download plot\", \"fa fa-floppy-o icon-save\", \"download\"]];\n",
       "\n",
       "mpl.extensions = [\"eps\", \"jpeg\", \"pdf\", \"png\", \"ps\", \"raw\", \"svg\", \"tif\"];\n",
       "\n",
       "mpl.default_extension = \"png\";var comm_websocket_adapter = function(comm) {\n",
       "    // Create a \"websocket\"-like object which calls the given IPython comm\n",
       "    // object with the appropriate methods. Currently this is a non binary\n",
       "    // socket, so there is still some room for performance tuning.\n",
       "    var ws = {};\n",
       "\n",
       "    ws.close = function() {\n",
       "        comm.close()\n",
       "    };\n",
       "    ws.send = function(m) {\n",
       "        //console.log('sending', m);\n",
       "        comm.send(m);\n",
       "    };\n",
       "    // Register the callback with on_msg.\n",
       "    comm.on_msg(function(msg) {\n",
       "        //console.log('receiving', msg['content']['data'], msg);\n",
       "        // Pass the mpl event to the overridden (by mpl) onmessage function.\n",
       "        ws.onmessage(msg['content']['data'])\n",
       "    });\n",
       "    return ws;\n",
       "}\n",
       "\n",
       "mpl.mpl_figure_comm = function(comm, msg) {\n",
       "    // This is the function which gets called when the mpl process\n",
       "    // starts-up an IPython Comm through the \"matplotlib\" channel.\n",
       "\n",
       "    var id = msg.content.data.id;\n",
       "    // Get hold of the div created by the display call when the Comm\n",
       "    // socket was opened in Python.\n",
       "    var element = $(\"#\" + id);\n",
       "    var ws_proxy = comm_websocket_adapter(comm)\n",
       "\n",
       "    function ondownload(figure, format) {\n",
       "        window.open(figure.imageObj.src);\n",
       "    }\n",
       "\n",
       "    var fig = new mpl.figure(id, ws_proxy,\n",
       "                           ondownload,\n",
       "                           element.get(0));\n",
       "\n",
       "    // Call onopen now - mpl needs it, as it is assuming we've passed it a real\n",
       "    // web socket which is closed, not our websocket->open comm proxy.\n",
       "    ws_proxy.onopen();\n",
       "\n",
       "    fig.parent_element = element.get(0);\n",
       "    fig.cell_info = mpl.find_output_cell(\"<div id='\" + id + \"'></div>\");\n",
       "    if (!fig.cell_info) {\n",
       "        console.error(\"Failed to find cell for figure\", id, fig);\n",
       "        return;\n",
       "    }\n",
       "\n",
       "    var output_index = fig.cell_info[2]\n",
       "    var cell = fig.cell_info[0];\n",
       "\n",
       "};\n",
       "\n",
       "mpl.figure.prototype.handle_close = function(fig, msg) {\n",
       "    var width = fig.canvas.width/mpl.ratio\n",
       "    fig.root.unbind('remove')\n",
       "\n",
       "    // Update the output cell to use the data from the current canvas.\n",
       "    fig.push_to_output();\n",
       "    var dataURL = fig.canvas.toDataURL();\n",
       "    // Re-enable the keyboard manager in IPython - without this line, in FF,\n",
       "    // the notebook keyboard shortcuts fail.\n",
       "    IPython.keyboard_manager.enable()\n",
       "    $(fig.parent_element).html('<img src=\"' + dataURL + '\" width=\"' + width + '\">');\n",
       "    fig.close_ws(fig, msg);\n",
       "}\n",
       "\n",
       "mpl.figure.prototype.close_ws = function(fig, msg){\n",
       "    fig.send_message('closing', msg);\n",
       "    // fig.ws.close()\n",
       "}\n",
       "\n",
       "mpl.figure.prototype.push_to_output = function(remove_interactive) {\n",
       "    // Turn the data on the canvas into data in the output cell.\n",
       "    var width = this.canvas.width/mpl.ratio\n",
       "    var dataURL = this.canvas.toDataURL();\n",
       "    this.cell_info[1]['text/html'] = '<img src=\"' + dataURL + '\" width=\"' + width + '\">';\n",
       "}\n",
       "\n",
       "mpl.figure.prototype.updated_canvas_event = function() {\n",
       "    // Tell IPython that the notebook contents must change.\n",
       "    IPython.notebook.set_dirty(true);\n",
       "    this.send_message(\"ack\", {});\n",
       "    var fig = this;\n",
       "    // Wait a second, then push the new image to the DOM so\n",
       "    // that it is saved nicely (might be nice to debounce this).\n",
       "    setTimeout(function () { fig.push_to_output() }, 1000);\n",
       "}\n",
       "\n",
       "mpl.figure.prototype._init_toolbar = function() {\n",
       "    var fig = this;\n",
       "\n",
       "    var nav_element = $('<div/>')\n",
       "    nav_element.attr('style', 'width: 100%');\n",
       "    this.root.append(nav_element);\n",
       "\n",
       "    // Define a callback function for later on.\n",
       "    function toolbar_event(event) {\n",
       "        return fig.toolbar_button_onclick(event['data']);\n",
       "    }\n",
       "    function toolbar_mouse_event(event) {\n",
       "        return fig.toolbar_button_onmouseover(event['data']);\n",
       "    }\n",
       "\n",
       "    for(var toolbar_ind in mpl.toolbar_items){\n",
       "        var name = mpl.toolbar_items[toolbar_ind][0];\n",
       "        var tooltip = mpl.toolbar_items[toolbar_ind][1];\n",
       "        var image = mpl.toolbar_items[toolbar_ind][2];\n",
       "        var method_name = mpl.toolbar_items[toolbar_ind][3];\n",
       "\n",
       "        if (!name) { continue; };\n",
       "\n",
       "        var button = $('<button class=\"btn btn-default\" href=\"#\" title=\"' + name + '\"><i class=\"fa ' + image + ' fa-lg\"></i></button>');\n",
       "        button.click(method_name, toolbar_event);\n",
       "        button.mouseover(tooltip, toolbar_mouse_event);\n",
       "        nav_element.append(button);\n",
       "    }\n",
       "\n",
       "    // Add the status bar.\n",
       "    var status_bar = $('<span class=\"mpl-message\" style=\"text-align:right; float: right;\"/>');\n",
       "    nav_element.append(status_bar);\n",
       "    this.message = status_bar[0];\n",
       "\n",
       "    // Add the close button to the window.\n",
       "    var buttongrp = $('<div class=\"btn-group inline pull-right\"></div>');\n",
       "    var button = $('<button class=\"btn btn-mini btn-primary\" href=\"#\" title=\"Stop Interaction\"><i class=\"fa fa-power-off icon-remove icon-large\"></i></button>');\n",
       "    button.click(function (evt) { fig.handle_close(fig, {}); } );\n",
       "    button.mouseover('Stop Interaction', toolbar_mouse_event);\n",
       "    buttongrp.append(button);\n",
       "    var titlebar = this.root.find($('.ui-dialog-titlebar'));\n",
       "    titlebar.prepend(buttongrp);\n",
       "}\n",
       "\n",
       "mpl.figure.prototype._root_extra_style = function(el){\n",
       "    var fig = this\n",
       "    el.on(\"remove\", function(){\n",
       "\tfig.close_ws(fig, {});\n",
       "    });\n",
       "}\n",
       "\n",
       "mpl.figure.prototype._canvas_extra_style = function(el){\n",
       "    // this is important to make the div 'focusable\n",
       "    el.attr('tabindex', 0)\n",
       "    // reach out to IPython and tell the keyboard manager to turn it's self\n",
       "    // off when our div gets focus\n",
       "\n",
       "    // location in version 3\n",
       "    if (IPython.notebook.keyboard_manager) {\n",
       "        IPython.notebook.keyboard_manager.register_events(el);\n",
       "    }\n",
       "    else {\n",
       "        // location in version 2\n",
       "        IPython.keyboard_manager.register_events(el);\n",
       "    }\n",
       "\n",
       "}\n",
       "\n",
       "mpl.figure.prototype._key_event_extra = function(event, name) {\n",
       "    var manager = IPython.notebook.keyboard_manager;\n",
       "    if (!manager)\n",
       "        manager = IPython.keyboard_manager;\n",
       "\n",
       "    // Check for shift+enter\n",
       "    if (event.shiftKey && event.which == 13) {\n",
       "        this.canvas_div.blur();\n",
       "        event.shiftKey = false;\n",
       "        // Send a \"J\" for go to next cell\n",
       "        event.which = 74;\n",
       "        event.keyCode = 74;\n",
       "        manager.command_mode();\n",
       "        manager.handle_keydown(event);\n",
       "    }\n",
       "}\n",
       "\n",
       "mpl.figure.prototype.handle_save = function(fig, msg) {\n",
       "    fig.ondownload(fig, null);\n",
       "}\n",
       "\n",
       "\n",
       "mpl.find_output_cell = function(html_output) {\n",
       "    // Return the cell and output element which can be found *uniquely* in the notebook.\n",
       "    // Note - this is a bit hacky, but it is done because the \"notebook_saving.Notebook\"\n",
       "    // IPython event is triggered only after the cells have been serialised, which for\n",
       "    // our purposes (turning an active figure into a static one), is too late.\n",
       "    var cells = IPython.notebook.get_cells();\n",
       "    var ncells = cells.length;\n",
       "    for (var i=0; i<ncells; i++) {\n",
       "        var cell = cells[i];\n",
       "        if (cell.cell_type === 'code'){\n",
       "            for (var j=0; j<cell.output_area.outputs.length; j++) {\n",
       "                var data = cell.output_area.outputs[j];\n",
       "                if (data.data) {\n",
       "                    // IPython >= 3 moved mimebundle to data attribute of output\n",
       "                    data = data.data;\n",
       "                }\n",
       "                if (data['text/html'] == html_output) {\n",
       "                    return [cell, data, j];\n",
       "                }\n",
       "            }\n",
       "        }\n",
       "    }\n",
       "}\n",
       "\n",
       "// Register the function which deals with the matplotlib target/channel.\n",
       "// The kernel may be null if the page has been refreshed.\n",
       "if (IPython.notebook.kernel != null) {\n",
       "    IPython.notebook.kernel.comm_manager.register_target('matplotlib', mpl.mpl_figure_comm);\n",
       "}\n"
      ],
      "text/plain": [
       "<IPython.core.display.Javascript object>"
      ]
     },
     "metadata": {},
     "output_type": "display_data"
    },
    {
     "data": {
      "text/html": [
       "<img src=\"data:image/png;base64,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\" width=\"640\">"
      ],
      "text/plain": [
       "<IPython.core.display.HTML object>"
      ]
     },
     "metadata": {},
     "output_type": "display_data"
    }
   ],
   "source": [
    "# this program creates a graph with two plots: a red linear equation and a blue curve. \n",
    "\n",
    "import matplotlib.pyplot as plt\n",
    "import numpy\n",
    "%matplotlib notebook\n",
    "from sympy import *\n",
    "\n",
    "# define SymPy variables:\n",
    "x, y = symbols(\"x y\")\n",
    "\n",
    "# use any integers you need to plot:\n",
    "hp = plot_implicit(Eq(x**2 + y**4, 8), (x, -3, 5), (y, -5, 3))\n",
    "fig = hp._backend.fig\n",
    "ax = hp._backend.ax\n",
    "\n",
    "# create list of points:\n",
    "xx = yy = numpy.linspace(-3,3)\n",
    "\n",
    "# plot functions from matplotlib:\n",
    "ax.plot(xx,yy) # y = x\n",
    "ax.plot([0],[0],'o') # Point (0,0)\n",
    "ax.set_aspect('equal','datalim')\n",
    "# show plot:\n",
    "plt.show()"
   ]
  },
  {
   "cell_type": "markdown",
   "metadata": {},
   "source": [
    "In addition to displaying two plots, this program also has a mouse-over function that displays the coordinates of the cursor location in the bottom-right corner. It also features an \"off-switch\" next to the plot title to end this mouse-over function (De Los Santos 2016).\n",
    "\n",
    "This plot graph can be saved as a .py file and imported into other Python programs. It can be altered by changing the variable integer values.\n",
    "\n",
    "### Conclusion\n",
    "\n",
    "SymPy is a highly versitile library in its ability to function alongside other modules and languages, as well as on various operating systems. Because it is written entirely in Python and depends only on having an installation of Python 2.7 or newer, it can be used by anyone with even a basic understanding of the Python language. It works well beside other mathematics and science modules, such as Numpy and Scipy, and can be used with Matplotlib's Pyplot module to plot graphs. It features the ability to print results in pretty print, LaTeX, unicode, or the standard Python mathematics syntax, which provides options for improving human readability or increasing processing speed. \n",
    "\n",
    "Whether you're struggling through a calculus class, or you're a geomatics researcher and need to plot different wavelengths of ocean topography, SymPy will simplify your experience. "
   ]
  },
  {
   "cell_type": "markdown",
   "metadata": {},
   "source": [
    "#### Citations\n",
    "\n",
    "De Los Santos, P. J. (2016 November 22). Sympy and Plotting. <i>Stack Overflow</i>. Retrieved from https://stackoverflow.com/questions/40747474/sympy-and-plotting\n",
    "\n",
    "Dhingra, G. (2017 May 17). SymPy vs. Axiom. <i>Github</i>. Retrieved from https://github.com/sympy/sympy/wiki/SymPy-vs.-Axiom\n",
    "\n",
    "Guarín-Zapata, N. (2016 July 15). SymPy vs. Magma. <i>Github.</i> Retrieved from https://github.com/sympy/sympy/wiki/SymPy-vs.-Magma\n",
    "\n",
    "Meurer, A. (2018 August 17). SymPy Wiki. <i>Github</i>. Retrieved from https://github.com/sympy/sympy/wiki\n",
    "\n",
    "\n",
    "Open Source Initiative. (No Date). The 2-Clause BSD License. <i>The Open Source Initiative.</i> Retrieved from https://opensource.org/licenses/BSD-2-Clause\n",
    "\n",
    "PyPi. (2018 September 14). Sympy. <i>PyPi</i>. Retrieved from https://pypi.org/project/sympy/\n",
    "\n",
    "Python Software Foundation. (2019 January 28). math - Mathematical Functions. <i>Python 3.7.2 Documentation.</i> Retrieved from https://docs.python.org/3/library/math.html\n",
    "\n",
    "SymPy Development Team. (2018 September 14). Intro. <i>SymPy</i>. Retrieved from https://docs.sympy.org/latest/tutorial/intro.html#the-power-of-symbolic-computation\n",
    "\n",
    "SymPy Development Team. (2018 September 14). Preliminaries. <i>SymPy</i>. Retrieved from https://docs.sympy.org/latest/tutorial/preliminaries.html\n",
    "\n",
    "SymPy Development Team. (2018 September 14). Preliminaries. <i>SymPy</i>. Retrieved from https://docs.sympy.org/latest/tutorial/printing.html\n",
    "\n",
    "SymPy Development Team. (2018 August 24). SympPy Gamma. Retrieved from https://www.sympygamma.com/"
   ]
  }
 ],
 "metadata": {
  "kernelspec": {
   "display_name": "Python 3",
   "language": "python",
   "name": "python3"
  },
  "language_info": {
   "codemirror_mode": {
    "name": "ipython",
    "version": 3
   },
   "file_extension": ".py",
   "mimetype": "text/x-python",
   "name": "python",
   "nbconvert_exporter": "python",
   "pygments_lexer": "ipython3",
   "version": "3.6.3"
  }
 },
 "nbformat": 4,
 "nbformat_minor": 2
}
